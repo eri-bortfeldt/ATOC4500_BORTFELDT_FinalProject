{
  "nbformat": 4,
  "nbformat_minor": 0,
  "metadata": {
    "colab": {
      "name": "ATOC4500_project_BORTFELDT.ipynb",
      "provenance": [],
      "collapsed_sections": []
    },
    "kernelspec": {
      "name": "python3",
      "display_name": "Python 3"
    },
    "language_info": {
      "name": "python"
    }
  },
  "cells": [
    {
      "cell_type": "markdown",
      "source": [
        "###**ATOC4500 Data Science Lab: Final Project**\n",
        "###**Determining the Validity of Clustering Seasons for Denver, Colorado Using Daily Mean AQI Data**\n",
        "###Author: Erica Bortfeldt, erica.bortfeldt@colorado.edu###\n",
        "###last updated: April 27, 2022###\n",
        "\n",
        "**>>>> This code is available on github at https://github.com/eri-bortfeldt/ATOC4500_BORTFELDT_FinalProject**"
      ],
      "metadata": {
        "id": "PZq8RkP9cfbx"
      }
    },
    {
      "cell_type": "markdown",
      "source": [
        "###**Introduction:** This project seeks to determine whether or not daily mean AQI measurements are a valid variable to use for clustering seasons in Denver, CO. I have one primary research question that addresses the scientific goal: Can daily measurements of Air Quality Index be factored into a cluster analysis for seasons in Denver, Colorado in the same way daily measurements of temperature and/or precipitation can be used for the same purpose? My working hypothesis is that daily measurements of AQI can be factored into a cluster analysis for seasons in Denver, Colorado, but perhaps with not the same level of accuracy or reliability as with just daily measurements of temperature and precipitation, because AQI is not as strongly seasonally-variable as other meteorological variables.\n",
        "\n"
      ],
      "metadata": {
        "id": "6_rTpdWQcwSG"
      }
    },
    {
      "cell_type": "markdown",
      "source": [
        "###**Step 1: Read in data**\n",
        "\n"
      ],
      "metadata": {
        "id": "dSbDDXeFc9j8"
      }
    },
    {
      "cell_type": "markdown",
      "source": [
        "The dataset used in this project was manually constructed by me; I compiled together Denver Int'l Airport 2016-2020 data for Daily Mean AQI and Daily Mean PM2.5 Concentration from the EPA website and did the same for max/min temp, precip and snowfall from 2016-2020 from CSU's Colorado Climate Center archives. I then calculated a column for 'total precip' which adds the precip and snowfall columns together."
      ],
      "metadata": {
        "id": "-SmluVg7doAb"
      }
    },
    {
      "cell_type": "code",
      "source": [
        "import pandas as pd\n",
        "import numpy as np\n",
        "import datetime\n",
        "from google.colab import files\n",
        "\n",
        "from scipy.cluster.vq import vq, kmeans, whiten\n",
        "import matplotlib.pyplot as plt"
      ],
      "metadata": {
        "id": "uOliUhKEdOK8"
      },
      "execution_count": 1,
      "outputs": []
    },
    {
      "cell_type": "code",
      "source": [
        "uploaded = files.upload()\n",
        "\n",
        "for fn in uploaded.keys():\n",
        "  print('User uploaded file \"{name}\" with length {length} bytes'.format(name=fn, length=len(uploaded[fn])))"
      ],
      "metadata": {
        "colab": {
          "resources": {
            "http://localhost:8080/nbextensions/google.colab/files.js": {
              "data": "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",
              "ok": true,
              "headers": [
                [
                  "content-type",
                  "application/javascript"
                ]
              ],
              "status": 200,
              "status_text": ""
            }
          },
          "base_uri": "https://localhost:8080/",
          "height": 91
        },
        "id": "yN67z1bKO_GC",
        "outputId": "d99e5e6c-4003-4c8c-fdb3-c6b41d2bf5a3"
      },
      "execution_count": 3,
      "outputs": [
        {
          "output_type": "display_data",
          "data": {
            "text/plain": [
              "<IPython.core.display.HTML object>"
            ],
            "text/html": [
              "\n",
              "     <input type=\"file\" id=\"files-49e6e6ba-d3ee-412d-a6e9-0cfcc9194ffe\" name=\"files[]\" multiple disabled\n",
              "        style=\"border:none\" />\n",
              "     <output id=\"result-49e6e6ba-d3ee-412d-a6e9-0cfcc9194ffe\">\n",
              "      Upload widget is only available when the cell has been executed in the\n",
              "      current browser session. Please rerun this cell to enable.\n",
              "      </output>\n",
              "      <script src=\"/nbextensions/google.colab/files.js\"></script> "
            ]
          },
          "metadata": {}
        },
        {
          "output_type": "stream",
          "name": "stdout",
          "text": [
            "Saving 2016_2020dailyAQIMETDENfinal(1).csv to 2016_2020dailyAQIMETDENfinal(1) (1).csv\n",
            "User uploaded file \"2016_2020dailyAQIMETDENfinal(1).csv\" with length 55261 bytes\n"
          ]
        }
      ]
    },
    {
      "cell_type": "code",
      "source": [
        "df = pd.read_csv(\"2016_2020dailyAQIMETDENfinal(1).csv\") \n",
        "\n",
        "print(df) \n",
        " \n",
        "print(df.shape)"
      ],
      "metadata": {
        "colab": {
          "base_uri": "https://localhost:8080/"
        },
        "id": "3JUl3U4fPedw",
        "outputId": "80c13405-6ff6-423d-b86c-d74bb6a19fd7"
      },
      "execution_count": 4,
      "outputs": [
        {
          "output_type": "stream",
          "name": "stdout",
          "text": [
            "            Date Max Temp  Min Temp  Precip (in.)  Snowfall (in.)  \\\n",
            "0       1/1/2016       35         6          0.00             0.0   \n",
            "1       1/2/2016       41        16          0.00             0.0   \n",
            "2       1/3/2016       46        15          0.00             0.0   \n",
            "3       1/4/2016       45        18          0.00             0.0   \n",
            "4       1/5/2016       45        23          0.00             0.0   \n",
            "...          ...      ...       ...           ...             ...   \n",
            "1766  12/27/2020       46        26          0.00             0.0   \n",
            "1767  12/28/2020       30        25          0.16             1.9   \n",
            "1768  12/29/2020       33        15          0.00             0.0   \n",
            "1769  12/30/2020       44         7          0.00             0.0   \n",
            "1770  12/31/2020       43        19          0.00             0.0   \n",
            "\n",
            "      Total Precip (in.)  Daily Mean AQI  Daily Mean PM2.5 (ug/m^3)  \n",
            "0                   0.00              51                       12.3  \n",
            "1                   0.00              21                        5.1  \n",
            "2                   0.00              57                       14.8  \n",
            "3                   0.00              83                       27.4  \n",
            "4                   0.00              59                       15.9  \n",
            "...                  ...             ...                        ...  \n",
            "1766                0.00               5                        1.3  \n",
            "1767                2.06              30                        7.1  \n",
            "1768                0.00              48                       11.5  \n",
            "1769                0.00              32                        7.6  \n",
            "1770                0.00              69                       20.6  \n",
            "\n",
            "[1771 rows x 8 columns]\n",
            "(1771, 8)\n"
          ]
        }
      ]
    },
    {
      "cell_type": "code",
      "source": [
        "df.Date"
      ],
      "metadata": {
        "colab": {
          "base_uri": "https://localhost:8080/"
        },
        "id": "b0liZYmMQGyJ",
        "outputId": "804fa17c-fc37-45d6-9a4f-1137c91c632e"
      },
      "execution_count": 6,
      "outputs": [
        {
          "output_type": "execute_result",
          "data": {
            "text/plain": [
              "0         1/1/2016\n",
              "1         1/2/2016\n",
              "2         1/3/2016\n",
              "3         1/4/2016\n",
              "4         1/5/2016\n",
              "           ...    \n",
              "1766    12/27/2020\n",
              "1767    12/28/2020\n",
              "1768    12/29/2020\n",
              "1769    12/30/2020\n",
              "1770    12/31/2020\n",
              "Name: Date, Length: 1771, dtype: object"
            ]
          },
          "metadata": {},
          "execution_count": 6
        }
      ]
    },
    {
      "cell_type": "code",
      "source": [
        "df.columns"
      ],
      "metadata": {
        "colab": {
          "base_uri": "https://localhost:8080/"
        },
        "id": "5DwW7SaOTwZP",
        "outputId": "ab7b3325-9d75-4b17-f2da-4c86d683556a"
      },
      "execution_count": 7,
      "outputs": [
        {
          "output_type": "execute_result",
          "data": {
            "text/plain": [
              "Index(['Date', 'Max Temp', 'Min Temp', 'Precip (in.)', 'Snowfall (in.)',\n",
              "       'Total Precip (in.)', 'Daily Mean AQI', 'Daily Mean PM2.5 (ug/m^3)'],\n",
              "      dtype='object')"
            ]
          },
          "metadata": {},
          "execution_count": 7
        }
      ]
    },
    {
      "cell_type": "markdown",
      "source": [
        "###**Step 2: Munge data**"
      ],
      "metadata": {
        "id": "FvP4Qge7dI9a"
      }
    },
    {
      "cell_type": "markdown",
      "source": [
        "Two datasets were manually compiled into one .csv file; the first dataset, acquired from the EPA Outdoor Air Quality website, included daily mean PM2.5 concentration and daily mean AQI for every day of 2016-2020. The second dataset, acquired from the Colorado Climate Center at CSU, included daily measurements of maximum temperature, minimum temperature, daily precipitation, and daily snowfall for every day of 2016-2020. The new .csv file compiled from these two datasets was also manually stripped of all dates missing any data and includes an additional column where *total* daily precipitation was calculated for all dates. Below includes the final munging process - sorting columns into months in order to designate data into season clusters."
      ],
      "metadata": {
        "id": "Eb5MWdRfdmlA"
      }
    },
    {
      "cell_type": "code",
      "source": [
        "df"
      ],
      "metadata": {
        "colab": {
          "base_uri": "https://localhost:8080/",
          "height": 423
        },
        "id": "OmHq2JxsTeVc",
        "outputId": "401583aa-f21e-47fc-9f5e-7d50ddc3ef5c"
      },
      "execution_count": 8,
      "outputs": [
        {
          "output_type": "execute_result",
          "data": {
            "text/plain": [
              "            Date Max Temp  Min Temp  Precip (in.)  Snowfall (in.)  \\\n",
              "0       1/1/2016       35         6          0.00             0.0   \n",
              "1       1/2/2016       41        16          0.00             0.0   \n",
              "2       1/3/2016       46        15          0.00             0.0   \n",
              "3       1/4/2016       45        18          0.00             0.0   \n",
              "4       1/5/2016       45        23          0.00             0.0   \n",
              "...          ...      ...       ...           ...             ...   \n",
              "1766  12/27/2020       46        26          0.00             0.0   \n",
              "1767  12/28/2020       30        25          0.16             1.9   \n",
              "1768  12/29/2020       33        15          0.00             0.0   \n",
              "1769  12/30/2020       44         7          0.00             0.0   \n",
              "1770  12/31/2020       43        19          0.00             0.0   \n",
              "\n",
              "      Total Precip (in.)  Daily Mean AQI  Daily Mean PM2.5 (ug/m^3)  \n",
              "0                   0.00              51                       12.3  \n",
              "1                   0.00              21                        5.1  \n",
              "2                   0.00              57                       14.8  \n",
              "3                   0.00              83                       27.4  \n",
              "4                   0.00              59                       15.9  \n",
              "...                  ...             ...                        ...  \n",
              "1766                0.00               5                        1.3  \n",
              "1767                2.06              30                        7.1  \n",
              "1768                0.00              48                       11.5  \n",
              "1769                0.00              32                        7.6  \n",
              "1770                0.00              69                       20.6  \n",
              "\n",
              "[1771 rows x 8 columns]"
            ],
            "text/html": [
              "\n",
              "  <div id=\"df-fe84249b-8f83-4502-8024-2567b1d265a5\">\n",
              "    <div class=\"colab-df-container\">\n",
              "      <div>\n",
              "<style scoped>\n",
              "    .dataframe tbody tr th:only-of-type {\n",
              "        vertical-align: middle;\n",
              "    }\n",
              "\n",
              "    .dataframe tbody tr th {\n",
              "        vertical-align: top;\n",
              "    }\n",
              "\n",
              "    .dataframe thead th {\n",
              "        text-align: right;\n",
              "    }\n",
              "</style>\n",
              "<table border=\"1\" class=\"dataframe\">\n",
              "  <thead>\n",
              "    <tr style=\"text-align: right;\">\n",
              "      <th></th>\n",
              "      <th>Date</th>\n",
              "      <th>Max Temp</th>\n",
              "      <th>Min Temp</th>\n",
              "      <th>Precip (in.)</th>\n",
              "      <th>Snowfall (in.)</th>\n",
              "      <th>Total Precip (in.)</th>\n",
              "      <th>Daily Mean AQI</th>\n",
              "      <th>Daily Mean PM2.5 (ug/m^3)</th>\n",
              "    </tr>\n",
              "  </thead>\n",
              "  <tbody>\n",
              "    <tr>\n",
              "      <th>0</th>\n",
              "      <td>1/1/2016</td>\n",
              "      <td>35</td>\n",
              "      <td>6</td>\n",
              "      <td>0.00</td>\n",
              "      <td>0.0</td>\n",
              "      <td>0.00</td>\n",
              "      <td>51</td>\n",
              "      <td>12.3</td>\n",
              "    </tr>\n",
              "    <tr>\n",
              "      <th>1</th>\n",
              "      <td>1/2/2016</td>\n",
              "      <td>41</td>\n",
              "      <td>16</td>\n",
              "      <td>0.00</td>\n",
              "      <td>0.0</td>\n",
              "      <td>0.00</td>\n",
              "      <td>21</td>\n",
              "      <td>5.1</td>\n",
              "    </tr>\n",
              "    <tr>\n",
              "      <th>2</th>\n",
              "      <td>1/3/2016</td>\n",
              "      <td>46</td>\n",
              "      <td>15</td>\n",
              "      <td>0.00</td>\n",
              "      <td>0.0</td>\n",
              "      <td>0.00</td>\n",
              "      <td>57</td>\n",
              "      <td>14.8</td>\n",
              "    </tr>\n",
              "    <tr>\n",
              "      <th>3</th>\n",
              "      <td>1/4/2016</td>\n",
              "      <td>45</td>\n",
              "      <td>18</td>\n",
              "      <td>0.00</td>\n",
              "      <td>0.0</td>\n",
              "      <td>0.00</td>\n",
              "      <td>83</td>\n",
              "      <td>27.4</td>\n",
              "    </tr>\n",
              "    <tr>\n",
              "      <th>4</th>\n",
              "      <td>1/5/2016</td>\n",
              "      <td>45</td>\n",
              "      <td>23</td>\n",
              "      <td>0.00</td>\n",
              "      <td>0.0</td>\n",
              "      <td>0.00</td>\n",
              "      <td>59</td>\n",
              "      <td>15.9</td>\n",
              "    </tr>\n",
              "    <tr>\n",
              "      <th>...</th>\n",
              "      <td>...</td>\n",
              "      <td>...</td>\n",
              "      <td>...</td>\n",
              "      <td>...</td>\n",
              "      <td>...</td>\n",
              "      <td>...</td>\n",
              "      <td>...</td>\n",
              "      <td>...</td>\n",
              "    </tr>\n",
              "    <tr>\n",
              "      <th>1766</th>\n",
              "      <td>12/27/2020</td>\n",
              "      <td>46</td>\n",
              "      <td>26</td>\n",
              "      <td>0.00</td>\n",
              "      <td>0.0</td>\n",
              "      <td>0.00</td>\n",
              "      <td>5</td>\n",
              "      <td>1.3</td>\n",
              "    </tr>\n",
              "    <tr>\n",
              "      <th>1767</th>\n",
              "      <td>12/28/2020</td>\n",
              "      <td>30</td>\n",
              "      <td>25</td>\n",
              "      <td>0.16</td>\n",
              "      <td>1.9</td>\n",
              "      <td>2.06</td>\n",
              "      <td>30</td>\n",
              "      <td>7.1</td>\n",
              "    </tr>\n",
              "    <tr>\n",
              "      <th>1768</th>\n",
              "      <td>12/29/2020</td>\n",
              "      <td>33</td>\n",
              "      <td>15</td>\n",
              "      <td>0.00</td>\n",
              "      <td>0.0</td>\n",
              "      <td>0.00</td>\n",
              "      <td>48</td>\n",
              "      <td>11.5</td>\n",
              "    </tr>\n",
              "    <tr>\n",
              "      <th>1769</th>\n",
              "      <td>12/30/2020</td>\n",
              "      <td>44</td>\n",
              "      <td>7</td>\n",
              "      <td>0.00</td>\n",
              "      <td>0.0</td>\n",
              "      <td>0.00</td>\n",
              "      <td>32</td>\n",
              "      <td>7.6</td>\n",
              "    </tr>\n",
              "    <tr>\n",
              "      <th>1770</th>\n",
              "      <td>12/31/2020</td>\n",
              "      <td>43</td>\n",
              "      <td>19</td>\n",
              "      <td>0.00</td>\n",
              "      <td>0.0</td>\n",
              "      <td>0.00</td>\n",
              "      <td>69</td>\n",
              "      <td>20.6</td>\n",
              "    </tr>\n",
              "  </tbody>\n",
              "</table>\n",
              "<p>1771 rows × 8 columns</p>\n",
              "</div>\n",
              "      <button class=\"colab-df-convert\" onclick=\"convertToInteractive('df-fe84249b-8f83-4502-8024-2567b1d265a5')\"\n",
              "              title=\"Convert this dataframe to an interactive table.\"\n",
              "              style=\"display:none;\">\n",
              "        \n",
              "  <svg xmlns=\"http://www.w3.org/2000/svg\" height=\"24px\"viewBox=\"0 0 24 24\"\n",
              "       width=\"24px\">\n",
              "    <path d=\"M0 0h24v24H0V0z\" fill=\"none\"/>\n",
              "    <path d=\"M18.56 5.44l.94 2.06.94-2.06 2.06-.94-2.06-.94-.94-2.06-.94 2.06-2.06.94zm-11 1L8.5 8.5l.94-2.06 2.06-.94-2.06-.94L8.5 2.5l-.94 2.06-2.06.94zm10 10l.94 2.06.94-2.06 2.06-.94-2.06-.94-.94-2.06-.94 2.06-2.06.94z\"/><path d=\"M17.41 7.96l-1.37-1.37c-.4-.4-.92-.59-1.43-.59-.52 0-1.04.2-1.43.59L10.3 9.45l-7.72 7.72c-.78.78-.78 2.05 0 2.83L4 21.41c.39.39.9.59 1.41.59.51 0 1.02-.2 1.41-.59l7.78-7.78 2.81-2.81c.8-.78.8-2.07 0-2.86zM5.41 20L4 18.59l7.72-7.72 1.47 1.35L5.41 20z\"/>\n",
              "  </svg>\n",
              "      </button>\n",
              "      \n",
              "  <style>\n",
              "    .colab-df-container {\n",
              "      display:flex;\n",
              "      flex-wrap:wrap;\n",
              "      gap: 12px;\n",
              "    }\n",
              "\n",
              "    .colab-df-convert {\n",
              "      background-color: #E8F0FE;\n",
              "      border: none;\n",
              "      border-radius: 50%;\n",
              "      cursor: pointer;\n",
              "      display: none;\n",
              "      fill: #1967D2;\n",
              "      height: 32px;\n",
              "      padding: 0 0 0 0;\n",
              "      width: 32px;\n",
              "    }\n",
              "\n",
              "    .colab-df-convert:hover {\n",
              "      background-color: #E2EBFA;\n",
              "      box-shadow: 0px 1px 2px rgba(60, 64, 67, 0.3), 0px 1px 3px 1px rgba(60, 64, 67, 0.15);\n",
              "      fill: #174EA6;\n",
              "    }\n",
              "\n",
              "    [theme=dark] .colab-df-convert {\n",
              "      background-color: #3B4455;\n",
              "      fill: #D2E3FC;\n",
              "    }\n",
              "\n",
              "    [theme=dark] .colab-df-convert:hover {\n",
              "      background-color: #434B5C;\n",
              "      box-shadow: 0px 1px 3px 1px rgba(0, 0, 0, 0.15);\n",
              "      filter: drop-shadow(0px 1px 2px rgba(0, 0, 0, 0.3));\n",
              "      fill: #FFFFFF;\n",
              "    }\n",
              "  </style>\n",
              "\n",
              "      <script>\n",
              "        const buttonEl =\n",
              "          document.querySelector('#df-fe84249b-8f83-4502-8024-2567b1d265a5 button.colab-df-convert');\n",
              "        buttonEl.style.display =\n",
              "          google.colab.kernel.accessAllowed ? 'block' : 'none';\n",
              "\n",
              "        async function convertToInteractive(key) {\n",
              "          const element = document.querySelector('#df-fe84249b-8f83-4502-8024-2567b1d265a5');\n",
              "          const dataTable =\n",
              "            await google.colab.kernel.invokeFunction('convertToInteractive',\n",
              "                                                     [key], {});\n",
              "          if (!dataTable) return;\n",
              "\n",
              "          const docLinkHtml = 'Like what you see? Visit the ' +\n",
              "            '<a target=\"_blank\" href=https://colab.research.google.com/notebooks/data_table.ipynb>data table notebook</a>'\n",
              "            + ' to learn more about interactive tables.';\n",
              "          element.innerHTML = '';\n",
              "          dataTable['output_type'] = 'display_data';\n",
              "          await google.colab.output.renderOutput(dataTable, element);\n",
              "          const docLink = document.createElement('div');\n",
              "          docLink.innerHTML = docLinkHtml;\n",
              "          element.appendChild(docLink);\n",
              "        }\n",
              "      </script>\n",
              "    </div>\n",
              "  </div>\n",
              "  "
            ]
          },
          "metadata": {},
          "execution_count": 8
        }
      ]
    },
    {
      "cell_type": "code",
      "source": [
        "### add a new variable to the dataframe that has the date in a \"datetime\" variable that python knows\n",
        "from datetime import date\n",
        "import datetime\n",
        "\n",
        "##create a datetime object from a string\n",
        "#foo = datetime.strptime('2012-01-01', '%Y-%m-%d')\n",
        "#foo = datetime.strptime('2012-01-01T00:53:00', '%Y-%m-%dT%H:%M:%S')\n",
        "#foo = datetime.strptime(df['DATE'][0], '%Y-%m-%dT%H:%M:%S')\n",
        "#print(foo)\n",
        "\n",
        "## look at the format of the date in the data\n",
        "df['Date']\n",
        "\n",
        "## play with converting something similar to the date in the data into a datetime\n",
        "foo='1/1/2016'\n",
        "print(foo)\n",
        "print(pd.to_datetime(foo, format='%m/%d/%Y'))\n",
        "print('YEA!!!! THIS WORKS :)!!!')\n",
        "\n",
        "## try it on all data\n",
        "#print(pd.to_datetime(df['Date'], format='%m/%d/%Y'))\n",
        "#print('YEA!!!! THIS WORKS but i won't print it every time :)!!!')\n",
        "\n",
        "df['datetime'] = pd.to_datetime(df['Date'], format='%m/%d/%Y')\n",
        "df"
      ],
      "metadata": {
        "colab": {
          "base_uri": "https://localhost:8080/",
          "height": 476
        },
        "id": "_kdtrdTaTrLP",
        "outputId": "7592ab78-889a-4360-920c-5a6c7c50aa66"
      },
      "execution_count": 9,
      "outputs": [
        {
          "output_type": "stream",
          "name": "stdout",
          "text": [
            "1/1/2016\n",
            "2016-01-01 00:00:00\n",
            "YEA!!!! THIS WORKS :)!!!\n"
          ]
        },
        {
          "output_type": "execute_result",
          "data": {
            "text/plain": [
              "            Date Max Temp  Min Temp  Precip (in.)  Snowfall (in.)  \\\n",
              "0       1/1/2016       35         6          0.00             0.0   \n",
              "1       1/2/2016       41        16          0.00             0.0   \n",
              "2       1/3/2016       46        15          0.00             0.0   \n",
              "3       1/4/2016       45        18          0.00             0.0   \n",
              "4       1/5/2016       45        23          0.00             0.0   \n",
              "...          ...      ...       ...           ...             ...   \n",
              "1766  12/27/2020       46        26          0.00             0.0   \n",
              "1767  12/28/2020       30        25          0.16             1.9   \n",
              "1768  12/29/2020       33        15          0.00             0.0   \n",
              "1769  12/30/2020       44         7          0.00             0.0   \n",
              "1770  12/31/2020       43        19          0.00             0.0   \n",
              "\n",
              "      Total Precip (in.)  Daily Mean AQI  Daily Mean PM2.5 (ug/m^3)   datetime  \n",
              "0                   0.00              51                       12.3 2016-01-01  \n",
              "1                   0.00              21                        5.1 2016-01-02  \n",
              "2                   0.00              57                       14.8 2016-01-03  \n",
              "3                   0.00              83                       27.4 2016-01-04  \n",
              "4                   0.00              59                       15.9 2016-01-05  \n",
              "...                  ...             ...                        ...        ...  \n",
              "1766                0.00               5                        1.3 2020-12-27  \n",
              "1767                2.06              30                        7.1 2020-12-28  \n",
              "1768                0.00              48                       11.5 2020-12-29  \n",
              "1769                0.00              32                        7.6 2020-12-30  \n",
              "1770                0.00              69                       20.6 2020-12-31  \n",
              "\n",
              "[1771 rows x 9 columns]"
            ],
            "text/html": [
              "\n",
              "  <div id=\"df-cc2d3940-1cae-46d7-98b5-9753d148e2a0\">\n",
              "    <div class=\"colab-df-container\">\n",
              "      <div>\n",
              "<style scoped>\n",
              "    .dataframe tbody tr th:only-of-type {\n",
              "        vertical-align: middle;\n",
              "    }\n",
              "\n",
              "    .dataframe tbody tr th {\n",
              "        vertical-align: top;\n",
              "    }\n",
              "\n",
              "    .dataframe thead th {\n",
              "        text-align: right;\n",
              "    }\n",
              "</style>\n",
              "<table border=\"1\" class=\"dataframe\">\n",
              "  <thead>\n",
              "    <tr style=\"text-align: right;\">\n",
              "      <th></th>\n",
              "      <th>Date</th>\n",
              "      <th>Max Temp</th>\n",
              "      <th>Min Temp</th>\n",
              "      <th>Precip (in.)</th>\n",
              "      <th>Snowfall (in.)</th>\n",
              "      <th>Total Precip (in.)</th>\n",
              "      <th>Daily Mean AQI</th>\n",
              "      <th>Daily Mean PM2.5 (ug/m^3)</th>\n",
              "      <th>datetime</th>\n",
              "    </tr>\n",
              "  </thead>\n",
              "  <tbody>\n",
              "    <tr>\n",
              "      <th>0</th>\n",
              "      <td>1/1/2016</td>\n",
              "      <td>35</td>\n",
              "      <td>6</td>\n",
              "      <td>0.00</td>\n",
              "      <td>0.0</td>\n",
              "      <td>0.00</td>\n",
              "      <td>51</td>\n",
              "      <td>12.3</td>\n",
              "      <td>2016-01-01</td>\n",
              "    </tr>\n",
              "    <tr>\n",
              "      <th>1</th>\n",
              "      <td>1/2/2016</td>\n",
              "      <td>41</td>\n",
              "      <td>16</td>\n",
              "      <td>0.00</td>\n",
              "      <td>0.0</td>\n",
              "      <td>0.00</td>\n",
              "      <td>21</td>\n",
              "      <td>5.1</td>\n",
              "      <td>2016-01-02</td>\n",
              "    </tr>\n",
              "    <tr>\n",
              "      <th>2</th>\n",
              "      <td>1/3/2016</td>\n",
              "      <td>46</td>\n",
              "      <td>15</td>\n",
              "      <td>0.00</td>\n",
              "      <td>0.0</td>\n",
              "      <td>0.00</td>\n",
              "      <td>57</td>\n",
              "      <td>14.8</td>\n",
              "      <td>2016-01-03</td>\n",
              "    </tr>\n",
              "    <tr>\n",
              "      <th>3</th>\n",
              "      <td>1/4/2016</td>\n",
              "      <td>45</td>\n",
              "      <td>18</td>\n",
              "      <td>0.00</td>\n",
              "      <td>0.0</td>\n",
              "      <td>0.00</td>\n",
              "      <td>83</td>\n",
              "      <td>27.4</td>\n",
              "      <td>2016-01-04</td>\n",
              "    </tr>\n",
              "    <tr>\n",
              "      <th>4</th>\n",
              "      <td>1/5/2016</td>\n",
              "      <td>45</td>\n",
              "      <td>23</td>\n",
              "      <td>0.00</td>\n",
              "      <td>0.0</td>\n",
              "      <td>0.00</td>\n",
              "      <td>59</td>\n",
              "      <td>15.9</td>\n",
              "      <td>2016-01-05</td>\n",
              "    </tr>\n",
              "    <tr>\n",
              "      <th>...</th>\n",
              "      <td>...</td>\n",
              "      <td>...</td>\n",
              "      <td>...</td>\n",
              "      <td>...</td>\n",
              "      <td>...</td>\n",
              "      <td>...</td>\n",
              "      <td>...</td>\n",
              "      <td>...</td>\n",
              "      <td>...</td>\n",
              "    </tr>\n",
              "    <tr>\n",
              "      <th>1766</th>\n",
              "      <td>12/27/2020</td>\n",
              "      <td>46</td>\n",
              "      <td>26</td>\n",
              "      <td>0.00</td>\n",
              "      <td>0.0</td>\n",
              "      <td>0.00</td>\n",
              "      <td>5</td>\n",
              "      <td>1.3</td>\n",
              "      <td>2020-12-27</td>\n",
              "    </tr>\n",
              "    <tr>\n",
              "      <th>1767</th>\n",
              "      <td>12/28/2020</td>\n",
              "      <td>30</td>\n",
              "      <td>25</td>\n",
              "      <td>0.16</td>\n",
              "      <td>1.9</td>\n",
              "      <td>2.06</td>\n",
              "      <td>30</td>\n",
              "      <td>7.1</td>\n",
              "      <td>2020-12-28</td>\n",
              "    </tr>\n",
              "    <tr>\n",
              "      <th>1768</th>\n",
              "      <td>12/29/2020</td>\n",
              "      <td>33</td>\n",
              "      <td>15</td>\n",
              "      <td>0.00</td>\n",
              "      <td>0.0</td>\n",
              "      <td>0.00</td>\n",
              "      <td>48</td>\n",
              "      <td>11.5</td>\n",
              "      <td>2020-12-29</td>\n",
              "    </tr>\n",
              "    <tr>\n",
              "      <th>1769</th>\n",
              "      <td>12/30/2020</td>\n",
              "      <td>44</td>\n",
              "      <td>7</td>\n",
              "      <td>0.00</td>\n",
              "      <td>0.0</td>\n",
              "      <td>0.00</td>\n",
              "      <td>32</td>\n",
              "      <td>7.6</td>\n",
              "      <td>2020-12-30</td>\n",
              "    </tr>\n",
              "    <tr>\n",
              "      <th>1770</th>\n",
              "      <td>12/31/2020</td>\n",
              "      <td>43</td>\n",
              "      <td>19</td>\n",
              "      <td>0.00</td>\n",
              "      <td>0.0</td>\n",
              "      <td>0.00</td>\n",
              "      <td>69</td>\n",
              "      <td>20.6</td>\n",
              "      <td>2020-12-31</td>\n",
              "    </tr>\n",
              "  </tbody>\n",
              "</table>\n",
              "<p>1771 rows × 9 columns</p>\n",
              "</div>\n",
              "      <button class=\"colab-df-convert\" onclick=\"convertToInteractive('df-cc2d3940-1cae-46d7-98b5-9753d148e2a0')\"\n",
              "              title=\"Convert this dataframe to an interactive table.\"\n",
              "              style=\"display:none;\">\n",
              "        \n",
              "  <svg xmlns=\"http://www.w3.org/2000/svg\" height=\"24px\"viewBox=\"0 0 24 24\"\n",
              "       width=\"24px\">\n",
              "    <path d=\"M0 0h24v24H0V0z\" fill=\"none\"/>\n",
              "    <path d=\"M18.56 5.44l.94 2.06.94-2.06 2.06-.94-2.06-.94-.94-2.06-.94 2.06-2.06.94zm-11 1L8.5 8.5l.94-2.06 2.06-.94-2.06-.94L8.5 2.5l-.94 2.06-2.06.94zm10 10l.94 2.06.94-2.06 2.06-.94-2.06-.94-.94-2.06-.94 2.06-2.06.94z\"/><path d=\"M17.41 7.96l-1.37-1.37c-.4-.4-.92-.59-1.43-.59-.52 0-1.04.2-1.43.59L10.3 9.45l-7.72 7.72c-.78.78-.78 2.05 0 2.83L4 21.41c.39.39.9.59 1.41.59.51 0 1.02-.2 1.41-.59l7.78-7.78 2.81-2.81c.8-.78.8-2.07 0-2.86zM5.41 20L4 18.59l7.72-7.72 1.47 1.35L5.41 20z\"/>\n",
              "  </svg>\n",
              "      </button>\n",
              "      \n",
              "  <style>\n",
              "    .colab-df-container {\n",
              "      display:flex;\n",
              "      flex-wrap:wrap;\n",
              "      gap: 12px;\n",
              "    }\n",
              "\n",
              "    .colab-df-convert {\n",
              "      background-color: #E8F0FE;\n",
              "      border: none;\n",
              "      border-radius: 50%;\n",
              "      cursor: pointer;\n",
              "      display: none;\n",
              "      fill: #1967D2;\n",
              "      height: 32px;\n",
              "      padding: 0 0 0 0;\n",
              "      width: 32px;\n",
              "    }\n",
              "\n",
              "    .colab-df-convert:hover {\n",
              "      background-color: #E2EBFA;\n",
              "      box-shadow: 0px 1px 2px rgba(60, 64, 67, 0.3), 0px 1px 3px 1px rgba(60, 64, 67, 0.15);\n",
              "      fill: #174EA6;\n",
              "    }\n",
              "\n",
              "    [theme=dark] .colab-df-convert {\n",
              "      background-color: #3B4455;\n",
              "      fill: #D2E3FC;\n",
              "    }\n",
              "\n",
              "    [theme=dark] .colab-df-convert:hover {\n",
              "      background-color: #434B5C;\n",
              "      box-shadow: 0px 1px 3px 1px rgba(0, 0, 0, 0.15);\n",
              "      filter: drop-shadow(0px 1px 2px rgba(0, 0, 0, 0.3));\n",
              "      fill: #FFFFFF;\n",
              "    }\n",
              "  </style>\n",
              "\n",
              "      <script>\n",
              "        const buttonEl =\n",
              "          document.querySelector('#df-cc2d3940-1cae-46d7-98b5-9753d148e2a0 button.colab-df-convert');\n",
              "        buttonEl.style.display =\n",
              "          google.colab.kernel.accessAllowed ? 'block' : 'none';\n",
              "\n",
              "        async function convertToInteractive(key) {\n",
              "          const element = document.querySelector('#df-cc2d3940-1cae-46d7-98b5-9753d148e2a0');\n",
              "          const dataTable =\n",
              "            await google.colab.kernel.invokeFunction('convertToInteractive',\n",
              "                                                     [key], {});\n",
              "          if (!dataTable) return;\n",
              "\n",
              "          const docLinkHtml = 'Like what you see? Visit the ' +\n",
              "            '<a target=\"_blank\" href=https://colab.research.google.com/notebooks/data_table.ipynb>data table notebook</a>'\n",
              "            + ' to learn more about interactive tables.';\n",
              "          element.innerHTML = '';\n",
              "          dataTable['output_type'] = 'display_data';\n",
              "          await google.colab.output.renderOutput(dataTable, element);\n",
              "          const docLink = document.createElement('div');\n",
              "          docLink.innerHTML = docLinkHtml;\n",
              "          element.appendChild(docLink);\n",
              "        }\n",
              "      </script>\n",
              "    </div>\n",
              "  </div>\n",
              "  "
            ]
          },
          "metadata": {},
          "execution_count": 9
        }
      ]
    },
    {
      "cell_type": "code",
      "source": [
        "## strip out the month from the datetime object\n",
        "\n",
        "df['month'] = df.datetime.dt.strftime('%m')\n",
        "\n",
        "df"
      ],
      "metadata": {
        "colab": {
          "base_uri": "https://localhost:8080/",
          "height": 467
        },
        "id": "BDvBbzFgWs1L",
        "outputId": "eb1061f2-c4e6-4fa2-8ea3-2fe505a87221"
      },
      "execution_count": 10,
      "outputs": [
        {
          "output_type": "execute_result",
          "data": {
            "text/plain": [
              "            Date Max Temp  Min Temp  Precip (in.)  Snowfall (in.)  \\\n",
              "0       1/1/2016       35         6          0.00             0.0   \n",
              "1       1/2/2016       41        16          0.00             0.0   \n",
              "2       1/3/2016       46        15          0.00             0.0   \n",
              "3       1/4/2016       45        18          0.00             0.0   \n",
              "4       1/5/2016       45        23          0.00             0.0   \n",
              "...          ...      ...       ...           ...             ...   \n",
              "1766  12/27/2020       46        26          0.00             0.0   \n",
              "1767  12/28/2020       30        25          0.16             1.9   \n",
              "1768  12/29/2020       33        15          0.00             0.0   \n",
              "1769  12/30/2020       44         7          0.00             0.0   \n",
              "1770  12/31/2020       43        19          0.00             0.0   \n",
              "\n",
              "      Total Precip (in.)  Daily Mean AQI  Daily Mean PM2.5 (ug/m^3)  \\\n",
              "0                   0.00              51                       12.3   \n",
              "1                   0.00              21                        5.1   \n",
              "2                   0.00              57                       14.8   \n",
              "3                   0.00              83                       27.4   \n",
              "4                   0.00              59                       15.9   \n",
              "...                  ...             ...                        ...   \n",
              "1766                0.00               5                        1.3   \n",
              "1767                2.06              30                        7.1   \n",
              "1768                0.00              48                       11.5   \n",
              "1769                0.00              32                        7.6   \n",
              "1770                0.00              69                       20.6   \n",
              "\n",
              "       datetime month  \n",
              "0    2016-01-01    01  \n",
              "1    2016-01-02    01  \n",
              "2    2016-01-03    01  \n",
              "3    2016-01-04    01  \n",
              "4    2016-01-05    01  \n",
              "...         ...   ...  \n",
              "1766 2020-12-27    12  \n",
              "1767 2020-12-28    12  \n",
              "1768 2020-12-29    12  \n",
              "1769 2020-12-30    12  \n",
              "1770 2020-12-31    12  \n",
              "\n",
              "[1771 rows x 10 columns]"
            ],
            "text/html": [
              "\n",
              "  <div id=\"df-6ed13577-7d00-4e48-9cb5-41f9e5dd97d8\">\n",
              "    <div class=\"colab-df-container\">\n",
              "      <div>\n",
              "<style scoped>\n",
              "    .dataframe tbody tr th:only-of-type {\n",
              "        vertical-align: middle;\n",
              "    }\n",
              "\n",
              "    .dataframe tbody tr th {\n",
              "        vertical-align: top;\n",
              "    }\n",
              "\n",
              "    .dataframe thead th {\n",
              "        text-align: right;\n",
              "    }\n",
              "</style>\n",
              "<table border=\"1\" class=\"dataframe\">\n",
              "  <thead>\n",
              "    <tr style=\"text-align: right;\">\n",
              "      <th></th>\n",
              "      <th>Date</th>\n",
              "      <th>Max Temp</th>\n",
              "      <th>Min Temp</th>\n",
              "      <th>Precip (in.)</th>\n",
              "      <th>Snowfall (in.)</th>\n",
              "      <th>Total Precip (in.)</th>\n",
              "      <th>Daily Mean AQI</th>\n",
              "      <th>Daily Mean PM2.5 (ug/m^3)</th>\n",
              "      <th>datetime</th>\n",
              "      <th>month</th>\n",
              "    </tr>\n",
              "  </thead>\n",
              "  <tbody>\n",
              "    <tr>\n",
              "      <th>0</th>\n",
              "      <td>1/1/2016</td>\n",
              "      <td>35</td>\n",
              "      <td>6</td>\n",
              "      <td>0.00</td>\n",
              "      <td>0.0</td>\n",
              "      <td>0.00</td>\n",
              "      <td>51</td>\n",
              "      <td>12.3</td>\n",
              "      <td>2016-01-01</td>\n",
              "      <td>01</td>\n",
              "    </tr>\n",
              "    <tr>\n",
              "      <th>1</th>\n",
              "      <td>1/2/2016</td>\n",
              "      <td>41</td>\n",
              "      <td>16</td>\n",
              "      <td>0.00</td>\n",
              "      <td>0.0</td>\n",
              "      <td>0.00</td>\n",
              "      <td>21</td>\n",
              "      <td>5.1</td>\n",
              "      <td>2016-01-02</td>\n",
              "      <td>01</td>\n",
              "    </tr>\n",
              "    <tr>\n",
              "      <th>2</th>\n",
              "      <td>1/3/2016</td>\n",
              "      <td>46</td>\n",
              "      <td>15</td>\n",
              "      <td>0.00</td>\n",
              "      <td>0.0</td>\n",
              "      <td>0.00</td>\n",
              "      <td>57</td>\n",
              "      <td>14.8</td>\n",
              "      <td>2016-01-03</td>\n",
              "      <td>01</td>\n",
              "    </tr>\n",
              "    <tr>\n",
              "      <th>3</th>\n",
              "      <td>1/4/2016</td>\n",
              "      <td>45</td>\n",
              "      <td>18</td>\n",
              "      <td>0.00</td>\n",
              "      <td>0.0</td>\n",
              "      <td>0.00</td>\n",
              "      <td>83</td>\n",
              "      <td>27.4</td>\n",
              "      <td>2016-01-04</td>\n",
              "      <td>01</td>\n",
              "    </tr>\n",
              "    <tr>\n",
              "      <th>4</th>\n",
              "      <td>1/5/2016</td>\n",
              "      <td>45</td>\n",
              "      <td>23</td>\n",
              "      <td>0.00</td>\n",
              "      <td>0.0</td>\n",
              "      <td>0.00</td>\n",
              "      <td>59</td>\n",
              "      <td>15.9</td>\n",
              "      <td>2016-01-05</td>\n",
              "      <td>01</td>\n",
              "    </tr>\n",
              "    <tr>\n",
              "      <th>...</th>\n",
              "      <td>...</td>\n",
              "      <td>...</td>\n",
              "      <td>...</td>\n",
              "      <td>...</td>\n",
              "      <td>...</td>\n",
              "      <td>...</td>\n",
              "      <td>...</td>\n",
              "      <td>...</td>\n",
              "      <td>...</td>\n",
              "      <td>...</td>\n",
              "    </tr>\n",
              "    <tr>\n",
              "      <th>1766</th>\n",
              "      <td>12/27/2020</td>\n",
              "      <td>46</td>\n",
              "      <td>26</td>\n",
              "      <td>0.00</td>\n",
              "      <td>0.0</td>\n",
              "      <td>0.00</td>\n",
              "      <td>5</td>\n",
              "      <td>1.3</td>\n",
              "      <td>2020-12-27</td>\n",
              "      <td>12</td>\n",
              "    </tr>\n",
              "    <tr>\n",
              "      <th>1767</th>\n",
              "      <td>12/28/2020</td>\n",
              "      <td>30</td>\n",
              "      <td>25</td>\n",
              "      <td>0.16</td>\n",
              "      <td>1.9</td>\n",
              "      <td>2.06</td>\n",
              "      <td>30</td>\n",
              "      <td>7.1</td>\n",
              "      <td>2020-12-28</td>\n",
              "      <td>12</td>\n",
              "    </tr>\n",
              "    <tr>\n",
              "      <th>1768</th>\n",
              "      <td>12/29/2020</td>\n",
              "      <td>33</td>\n",
              "      <td>15</td>\n",
              "      <td>0.00</td>\n",
              "      <td>0.0</td>\n",
              "      <td>0.00</td>\n",
              "      <td>48</td>\n",
              "      <td>11.5</td>\n",
              "      <td>2020-12-29</td>\n",
              "      <td>12</td>\n",
              "    </tr>\n",
              "    <tr>\n",
              "      <th>1769</th>\n",
              "      <td>12/30/2020</td>\n",
              "      <td>44</td>\n",
              "      <td>7</td>\n",
              "      <td>0.00</td>\n",
              "      <td>0.0</td>\n",
              "      <td>0.00</td>\n",
              "      <td>32</td>\n",
              "      <td>7.6</td>\n",
              "      <td>2020-12-30</td>\n",
              "      <td>12</td>\n",
              "    </tr>\n",
              "    <tr>\n",
              "      <th>1770</th>\n",
              "      <td>12/31/2020</td>\n",
              "      <td>43</td>\n",
              "      <td>19</td>\n",
              "      <td>0.00</td>\n",
              "      <td>0.0</td>\n",
              "      <td>0.00</td>\n",
              "      <td>69</td>\n",
              "      <td>20.6</td>\n",
              "      <td>2020-12-31</td>\n",
              "      <td>12</td>\n",
              "    </tr>\n",
              "  </tbody>\n",
              "</table>\n",
              "<p>1771 rows × 10 columns</p>\n",
              "</div>\n",
              "      <button class=\"colab-df-convert\" onclick=\"convertToInteractive('df-6ed13577-7d00-4e48-9cb5-41f9e5dd97d8')\"\n",
              "              title=\"Convert this dataframe to an interactive table.\"\n",
              "              style=\"display:none;\">\n",
              "        \n",
              "  <svg xmlns=\"http://www.w3.org/2000/svg\" height=\"24px\"viewBox=\"0 0 24 24\"\n",
              "       width=\"24px\">\n",
              "    <path d=\"M0 0h24v24H0V0z\" fill=\"none\"/>\n",
              "    <path d=\"M18.56 5.44l.94 2.06.94-2.06 2.06-.94-2.06-.94-.94-2.06-.94 2.06-2.06.94zm-11 1L8.5 8.5l.94-2.06 2.06-.94-2.06-.94L8.5 2.5l-.94 2.06-2.06.94zm10 10l.94 2.06.94-2.06 2.06-.94-2.06-.94-.94-2.06-.94 2.06-2.06.94z\"/><path d=\"M17.41 7.96l-1.37-1.37c-.4-.4-.92-.59-1.43-.59-.52 0-1.04.2-1.43.59L10.3 9.45l-7.72 7.72c-.78.78-.78 2.05 0 2.83L4 21.41c.39.39.9.59 1.41.59.51 0 1.02-.2 1.41-.59l7.78-7.78 2.81-2.81c.8-.78.8-2.07 0-2.86zM5.41 20L4 18.59l7.72-7.72 1.47 1.35L5.41 20z\"/>\n",
              "  </svg>\n",
              "      </button>\n",
              "      \n",
              "  <style>\n",
              "    .colab-df-container {\n",
              "      display:flex;\n",
              "      flex-wrap:wrap;\n",
              "      gap: 12px;\n",
              "    }\n",
              "\n",
              "    .colab-df-convert {\n",
              "      background-color: #E8F0FE;\n",
              "      border: none;\n",
              "      border-radius: 50%;\n",
              "      cursor: pointer;\n",
              "      display: none;\n",
              "      fill: #1967D2;\n",
              "      height: 32px;\n",
              "      padding: 0 0 0 0;\n",
              "      width: 32px;\n",
              "    }\n",
              "\n",
              "    .colab-df-convert:hover {\n",
              "      background-color: #E2EBFA;\n",
              "      box-shadow: 0px 1px 2px rgba(60, 64, 67, 0.3), 0px 1px 3px 1px rgba(60, 64, 67, 0.15);\n",
              "      fill: #174EA6;\n",
              "    }\n",
              "\n",
              "    [theme=dark] .colab-df-convert {\n",
              "      background-color: #3B4455;\n",
              "      fill: #D2E3FC;\n",
              "    }\n",
              "\n",
              "    [theme=dark] .colab-df-convert:hover {\n",
              "      background-color: #434B5C;\n",
              "      box-shadow: 0px 1px 3px 1px rgba(0, 0, 0, 0.15);\n",
              "      filter: drop-shadow(0px 1px 2px rgba(0, 0, 0, 0.3));\n",
              "      fill: #FFFFFF;\n",
              "    }\n",
              "  </style>\n",
              "\n",
              "      <script>\n",
              "        const buttonEl =\n",
              "          document.querySelector('#df-6ed13577-7d00-4e48-9cb5-41f9e5dd97d8 button.colab-df-convert');\n",
              "        buttonEl.style.display =\n",
              "          google.colab.kernel.accessAllowed ? 'block' : 'none';\n",
              "\n",
              "        async function convertToInteractive(key) {\n",
              "          const element = document.querySelector('#df-6ed13577-7d00-4e48-9cb5-41f9e5dd97d8');\n",
              "          const dataTable =\n",
              "            await google.colab.kernel.invokeFunction('convertToInteractive',\n",
              "                                                     [key], {});\n",
              "          if (!dataTable) return;\n",
              "\n",
              "          const docLinkHtml = 'Like what you see? Visit the ' +\n",
              "            '<a target=\"_blank\" href=https://colab.research.google.com/notebooks/data_table.ipynb>data table notebook</a>'\n",
              "            + ' to learn more about interactive tables.';\n",
              "          element.innerHTML = '';\n",
              "          dataTable['output_type'] = 'display_data';\n",
              "          await google.colab.output.renderOutput(dataTable, element);\n",
              "          const docLink = document.createElement('div');\n",
              "          docLink.innerHTML = docLinkHtml;\n",
              "          element.appendChild(docLink);\n",
              "        }\n",
              "      </script>\n",
              "    </div>\n",
              "  </div>\n",
              "  "
            ]
          },
          "metadata": {},
          "execution_count": 10
        }
      ]
    },
    {
      "cell_type": "markdown",
      "source": [
        "###**Step 3: Apply Data Science Method(s)**"
      ],
      "metadata": {
        "id": "z38-ucl_dbBH"
      }
    },
    {
      "cell_type": "markdown",
      "source": [
        "In this step, I define month numbers for each season and create a new variable for seasons. I then define columns/variables of interest for my cluster analysis; this is done for Daily Mean AQI and Daily Mean PM 2.5. Afterwards, I create some plots to visualize the data in a few different timeseries. Lastly, I define the amount of clusters I want. In this case, it's 4. "
      ],
      "metadata": {
        "id": "D6gk_HMzdh78"
      }
    },
    {
      "cell_type": "code",
      "source": [
        "# define month numbers for each season \n",
        "seasons = {(1, 12, 2): 1, (3, 4, 5): 2, (6, 7, 8): 3, (9, 10, 11): 4} \n",
        "# assign season to each month \n",
        "def season(ser): \n",
        " for k in seasons.keys(): \n",
        "  if ser in k: \n",
        "    return seasons[k] \n",
        "# create new season variable \n",
        "df['season']=[season(month) for month in pd.DatetimeIndex(df['Date']).month] \n",
        "# new dataframe \n",
        "df "
      ],
      "metadata": {
        "id": "8N0qMrPcdWMv",
        "colab": {
          "base_uri": "https://localhost:8080/",
          "height": 659
        },
        "outputId": "f8f9a8a2-f4d7-47fc-d951-698ceccee817"
      },
      "execution_count": 11,
      "outputs": [
        {
          "output_type": "execute_result",
          "data": {
            "text/plain": [
              "            Date Max Temp  Min Temp  Precip (in.)  Snowfall (in.)  \\\n",
              "0       1/1/2016       35         6          0.00             0.0   \n",
              "1       1/2/2016       41        16          0.00             0.0   \n",
              "2       1/3/2016       46        15          0.00             0.0   \n",
              "3       1/4/2016       45        18          0.00             0.0   \n",
              "4       1/5/2016       45        23          0.00             0.0   \n",
              "...          ...      ...       ...           ...             ...   \n",
              "1766  12/27/2020       46        26          0.00             0.0   \n",
              "1767  12/28/2020       30        25          0.16             1.9   \n",
              "1768  12/29/2020       33        15          0.00             0.0   \n",
              "1769  12/30/2020       44         7          0.00             0.0   \n",
              "1770  12/31/2020       43        19          0.00             0.0   \n",
              "\n",
              "      Total Precip (in.)  Daily Mean AQI  Daily Mean PM2.5 (ug/m^3)  \\\n",
              "0                   0.00              51                       12.3   \n",
              "1                   0.00              21                        5.1   \n",
              "2                   0.00              57                       14.8   \n",
              "3                   0.00              83                       27.4   \n",
              "4                   0.00              59                       15.9   \n",
              "...                  ...             ...                        ...   \n",
              "1766                0.00               5                        1.3   \n",
              "1767                2.06              30                        7.1   \n",
              "1768                0.00              48                       11.5   \n",
              "1769                0.00              32                        7.6   \n",
              "1770                0.00              69                       20.6   \n",
              "\n",
              "       datetime month  season  \n",
              "0    2016-01-01    01       1  \n",
              "1    2016-01-02    01       1  \n",
              "2    2016-01-03    01       1  \n",
              "3    2016-01-04    01       1  \n",
              "4    2016-01-05    01       1  \n",
              "...         ...   ...     ...  \n",
              "1766 2020-12-27    12       1  \n",
              "1767 2020-12-28    12       1  \n",
              "1768 2020-12-29    12       1  \n",
              "1769 2020-12-30    12       1  \n",
              "1770 2020-12-31    12       1  \n",
              "\n",
              "[1771 rows x 11 columns]"
            ],
            "text/html": [
              "\n",
              "  <div id=\"df-de6aed88-9039-458f-921f-8774cbc01954\">\n",
              "    <div class=\"colab-df-container\">\n",
              "      <div>\n",
              "<style scoped>\n",
              "    .dataframe tbody tr th:only-of-type {\n",
              "        vertical-align: middle;\n",
              "    }\n",
              "\n",
              "    .dataframe tbody tr th {\n",
              "        vertical-align: top;\n",
              "    }\n",
              "\n",
              "    .dataframe thead th {\n",
              "        text-align: right;\n",
              "    }\n",
              "</style>\n",
              "<table border=\"1\" class=\"dataframe\">\n",
              "  <thead>\n",
              "    <tr style=\"text-align: right;\">\n",
              "      <th></th>\n",
              "      <th>Date</th>\n",
              "      <th>Max Temp</th>\n",
              "      <th>Min Temp</th>\n",
              "      <th>Precip (in.)</th>\n",
              "      <th>Snowfall (in.)</th>\n",
              "      <th>Total Precip (in.)</th>\n",
              "      <th>Daily Mean AQI</th>\n",
              "      <th>Daily Mean PM2.5 (ug/m^3)</th>\n",
              "      <th>datetime</th>\n",
              "      <th>month</th>\n",
              "      <th>season</th>\n",
              "    </tr>\n",
              "  </thead>\n",
              "  <tbody>\n",
              "    <tr>\n",
              "      <th>0</th>\n",
              "      <td>1/1/2016</td>\n",
              "      <td>35</td>\n",
              "      <td>6</td>\n",
              "      <td>0.00</td>\n",
              "      <td>0.0</td>\n",
              "      <td>0.00</td>\n",
              "      <td>51</td>\n",
              "      <td>12.3</td>\n",
              "      <td>2016-01-01</td>\n",
              "      <td>01</td>\n",
              "      <td>1</td>\n",
              "    </tr>\n",
              "    <tr>\n",
              "      <th>1</th>\n",
              "      <td>1/2/2016</td>\n",
              "      <td>41</td>\n",
              "      <td>16</td>\n",
              "      <td>0.00</td>\n",
              "      <td>0.0</td>\n",
              "      <td>0.00</td>\n",
              "      <td>21</td>\n",
              "      <td>5.1</td>\n",
              "      <td>2016-01-02</td>\n",
              "      <td>01</td>\n",
              "      <td>1</td>\n",
              "    </tr>\n",
              "    <tr>\n",
              "      <th>2</th>\n",
              "      <td>1/3/2016</td>\n",
              "      <td>46</td>\n",
              "      <td>15</td>\n",
              "      <td>0.00</td>\n",
              "      <td>0.0</td>\n",
              "      <td>0.00</td>\n",
              "      <td>57</td>\n",
              "      <td>14.8</td>\n",
              "      <td>2016-01-03</td>\n",
              "      <td>01</td>\n",
              "      <td>1</td>\n",
              "    </tr>\n",
              "    <tr>\n",
              "      <th>3</th>\n",
              "      <td>1/4/2016</td>\n",
              "      <td>45</td>\n",
              "      <td>18</td>\n",
              "      <td>0.00</td>\n",
              "      <td>0.0</td>\n",
              "      <td>0.00</td>\n",
              "      <td>83</td>\n",
              "      <td>27.4</td>\n",
              "      <td>2016-01-04</td>\n",
              "      <td>01</td>\n",
              "      <td>1</td>\n",
              "    </tr>\n",
              "    <tr>\n",
              "      <th>4</th>\n",
              "      <td>1/5/2016</td>\n",
              "      <td>45</td>\n",
              "      <td>23</td>\n",
              "      <td>0.00</td>\n",
              "      <td>0.0</td>\n",
              "      <td>0.00</td>\n",
              "      <td>59</td>\n",
              "      <td>15.9</td>\n",
              "      <td>2016-01-05</td>\n",
              "      <td>01</td>\n",
              "      <td>1</td>\n",
              "    </tr>\n",
              "    <tr>\n",
              "      <th>...</th>\n",
              "      <td>...</td>\n",
              "      <td>...</td>\n",
              "      <td>...</td>\n",
              "      <td>...</td>\n",
              "      <td>...</td>\n",
              "      <td>...</td>\n",
              "      <td>...</td>\n",
              "      <td>...</td>\n",
              "      <td>...</td>\n",
              "      <td>...</td>\n",
              "      <td>...</td>\n",
              "    </tr>\n",
              "    <tr>\n",
              "      <th>1766</th>\n",
              "      <td>12/27/2020</td>\n",
              "      <td>46</td>\n",
              "      <td>26</td>\n",
              "      <td>0.00</td>\n",
              "      <td>0.0</td>\n",
              "      <td>0.00</td>\n",
              "      <td>5</td>\n",
              "      <td>1.3</td>\n",
              "      <td>2020-12-27</td>\n",
              "      <td>12</td>\n",
              "      <td>1</td>\n",
              "    </tr>\n",
              "    <tr>\n",
              "      <th>1767</th>\n",
              "      <td>12/28/2020</td>\n",
              "      <td>30</td>\n",
              "      <td>25</td>\n",
              "      <td>0.16</td>\n",
              "      <td>1.9</td>\n",
              "      <td>2.06</td>\n",
              "      <td>30</td>\n",
              "      <td>7.1</td>\n",
              "      <td>2020-12-28</td>\n",
              "      <td>12</td>\n",
              "      <td>1</td>\n",
              "    </tr>\n",
              "    <tr>\n",
              "      <th>1768</th>\n",
              "      <td>12/29/2020</td>\n",
              "      <td>33</td>\n",
              "      <td>15</td>\n",
              "      <td>0.00</td>\n",
              "      <td>0.0</td>\n",
              "      <td>0.00</td>\n",
              "      <td>48</td>\n",
              "      <td>11.5</td>\n",
              "      <td>2020-12-29</td>\n",
              "      <td>12</td>\n",
              "      <td>1</td>\n",
              "    </tr>\n",
              "    <tr>\n",
              "      <th>1769</th>\n",
              "      <td>12/30/2020</td>\n",
              "      <td>44</td>\n",
              "      <td>7</td>\n",
              "      <td>0.00</td>\n",
              "      <td>0.0</td>\n",
              "      <td>0.00</td>\n",
              "      <td>32</td>\n",
              "      <td>7.6</td>\n",
              "      <td>2020-12-30</td>\n",
              "      <td>12</td>\n",
              "      <td>1</td>\n",
              "    </tr>\n",
              "    <tr>\n",
              "      <th>1770</th>\n",
              "      <td>12/31/2020</td>\n",
              "      <td>43</td>\n",
              "      <td>19</td>\n",
              "      <td>0.00</td>\n",
              "      <td>0.0</td>\n",
              "      <td>0.00</td>\n",
              "      <td>69</td>\n",
              "      <td>20.6</td>\n",
              "      <td>2020-12-31</td>\n",
              "      <td>12</td>\n",
              "      <td>1</td>\n",
              "    </tr>\n",
              "  </tbody>\n",
              "</table>\n",
              "<p>1771 rows × 11 columns</p>\n",
              "</div>\n",
              "      <button class=\"colab-df-convert\" onclick=\"convertToInteractive('df-de6aed88-9039-458f-921f-8774cbc01954')\"\n",
              "              title=\"Convert this dataframe to an interactive table.\"\n",
              "              style=\"display:none;\">\n",
              "        \n",
              "  <svg xmlns=\"http://www.w3.org/2000/svg\" height=\"24px\"viewBox=\"0 0 24 24\"\n",
              "       width=\"24px\">\n",
              "    <path d=\"M0 0h24v24H0V0z\" fill=\"none\"/>\n",
              "    <path d=\"M18.56 5.44l.94 2.06.94-2.06 2.06-.94-2.06-.94-.94-2.06-.94 2.06-2.06.94zm-11 1L8.5 8.5l.94-2.06 2.06-.94-2.06-.94L8.5 2.5l-.94 2.06-2.06.94zm10 10l.94 2.06.94-2.06 2.06-.94-2.06-.94-.94-2.06-.94 2.06-2.06.94z\"/><path d=\"M17.41 7.96l-1.37-1.37c-.4-.4-.92-.59-1.43-.59-.52 0-1.04.2-1.43.59L10.3 9.45l-7.72 7.72c-.78.78-.78 2.05 0 2.83L4 21.41c.39.39.9.59 1.41.59.51 0 1.02-.2 1.41-.59l7.78-7.78 2.81-2.81c.8-.78.8-2.07 0-2.86zM5.41 20L4 18.59l7.72-7.72 1.47 1.35L5.41 20z\"/>\n",
              "  </svg>\n",
              "      </button>\n",
              "      \n",
              "  <style>\n",
              "    .colab-df-container {\n",
              "      display:flex;\n",
              "      flex-wrap:wrap;\n",
              "      gap: 12px;\n",
              "    }\n",
              "\n",
              "    .colab-df-convert {\n",
              "      background-color: #E8F0FE;\n",
              "      border: none;\n",
              "      border-radius: 50%;\n",
              "      cursor: pointer;\n",
              "      display: none;\n",
              "      fill: #1967D2;\n",
              "      height: 32px;\n",
              "      padding: 0 0 0 0;\n",
              "      width: 32px;\n",
              "    }\n",
              "\n",
              "    .colab-df-convert:hover {\n",
              "      background-color: #E2EBFA;\n",
              "      box-shadow: 0px 1px 2px rgba(60, 64, 67, 0.3), 0px 1px 3px 1px rgba(60, 64, 67, 0.15);\n",
              "      fill: #174EA6;\n",
              "    }\n",
              "\n",
              "    [theme=dark] .colab-df-convert {\n",
              "      background-color: #3B4455;\n",
              "      fill: #D2E3FC;\n",
              "    }\n",
              "\n",
              "    [theme=dark] .colab-df-convert:hover {\n",
              "      background-color: #434B5C;\n",
              "      box-shadow: 0px 1px 3px 1px rgba(0, 0, 0, 0.15);\n",
              "      filter: drop-shadow(0px 1px 2px rgba(0, 0, 0, 0.3));\n",
              "      fill: #FFFFFF;\n",
              "    }\n",
              "  </style>\n",
              "\n",
              "      <script>\n",
              "        const buttonEl =\n",
              "          document.querySelector('#df-de6aed88-9039-458f-921f-8774cbc01954 button.colab-df-convert');\n",
              "        buttonEl.style.display =\n",
              "          google.colab.kernel.accessAllowed ? 'block' : 'none';\n",
              "\n",
              "        async function convertToInteractive(key) {\n",
              "          const element = document.querySelector('#df-de6aed88-9039-458f-921f-8774cbc01954');\n",
              "          const dataTable =\n",
              "            await google.colab.kernel.invokeFunction('convertToInteractive',\n",
              "                                                     [key], {});\n",
              "          if (!dataTable) return;\n",
              "\n",
              "          const docLinkHtml = 'Like what you see? Visit the ' +\n",
              "            '<a target=\"_blank\" href=https://colab.research.google.com/notebooks/data_table.ipynb>data table notebook</a>'\n",
              "            + ' to learn more about interactive tables.';\n",
              "          element.innerHTML = '';\n",
              "          dataTable['output_type'] = 'display_data';\n",
              "          await google.colab.output.renderOutput(dataTable, element);\n",
              "          const docLink = document.createElement('div');\n",
              "          docLink.innerHTML = docLinkHtml;\n",
              "          element.appendChild(docLink);\n",
              "        }\n",
              "      </script>\n",
              "    </div>\n",
              "  </div>\n",
              "  "
            ]
          },
          "metadata": {},
          "execution_count": 11
        }
      ]
    },
    {
      "cell_type": "code",
      "source": [
        "## Select variables of interest. \n",
        "included_cols = ['Min Temp','Total Precip (in.)','Daily Mean AQI'] \n",
        "## convert to a numpy array for model input \n",
        "data = df.loc[:, df.columns.isin(list(included_cols))].to_numpy() \n",
        "print(data.shape) "
      ],
      "metadata": {
        "colab": {
          "base_uri": "https://localhost:8080/"
        },
        "id": "C8KHDSjUchqM",
        "outputId": "0bb02d0b-3161-454e-b8cf-82ba0d1d1b3b"
      },
      "execution_count": 12,
      "outputs": [
        {
          "output_type": "stream",
          "name": "stdout",
          "text": [
            "(1771, 3)\n"
          ]
        }
      ]
    },
    {
      "cell_type": "code",
      "source": [
        "# ### option to check out quick plots of data \n",
        "quickplot = 'no' \n",
        "if quickplot == 'yes': \n",
        " ## Quick plots of data \n",
        " for i in np.arange(0,np.shape(data)[1]): \n",
        "  plt.plot(data[:,i]); \n",
        " plt.title(included_cols[i]) \n",
        " plt.show()"
      ],
      "metadata": {
        "id": "eRoNS4_7dfb_"
      },
      "execution_count": 13,
      "outputs": []
    },
    {
      "cell_type": "code",
      "source": [
        "np.mean(data)"
      ],
      "metadata": {
        "colab": {
          "base_uri": "https://localhost:8080/"
        },
        "id": "JcPAHWRIO7CI",
        "outputId": "8451e3e9-b463-471e-fff8-858191a52716"
      },
      "execution_count": 14,
      "outputs": [
        {
          "output_type": "execute_result",
          "data": {
            "text/plain": [
              "22.199629211368343"
            ]
          },
          "metadata": {},
          "execution_count": 14
        }
      ]
    },
    {
      "cell_type": "code",
      "source": [
        "for i in np.arange(0,np.shape(data)[1]):  \n",
        "  plt.plot(data[:,0]); \n",
        "plt.title(included_cols[0]) \n",
        "plt.xlabel('Days since Jan 1 2016') \n",
        "plt.xticks(ticks = np.arange(0, len(data)+365, 365)) \n",
        "plt.show()\n",
        "\n",
        "for i in np.arange(0,np.shape(data)[1]):  \n",
        "  plt.plot(data[:,1]); \n",
        "plt.title(included_cols[1]) \n",
        "plt.xlabel('Days since Jan 1 2016') \n",
        "plt.xticks(ticks = np.arange(0, len(data)+365, 365)) \n",
        "plt.show()\n",
        "\n",
        "for i in np.arange(0,np.shape(data)[1]):  \n",
        "  plt.plot(data[:,2]); \n",
        "plt.title(included_cols[2]) \n",
        "plt.xlabel('Days since Jan 1 2016') \n",
        "plt.xticks(ticks = np.arange(0, len(data)+365, 365)) \n",
        "plt.show()"
      ],
      "metadata": {
        "colab": {
          "base_uri": "https://localhost:8080/",
          "height": 851
        },
        "id": "nTMe2zHdd4Kk",
        "outputId": "4aacc15b-a1e0-47d5-aee0-c06f832865fb"
      },
      "execution_count": 15,
      "outputs": [
        {
          "output_type": "display_data",
          "data": {
            "text/plain": [
              "<Figure size 432x288 with 1 Axes>"
            ],
            "image/png": "[encoded data removed]"
          },
          "metadata": {
            "needs_background": "light"
          }
        },
        {
          "output_type": "display_data",
          "data": {
            "text/plain": [
              "<Figure size 432x288 with 1 Axes>"
            ],
            "image/png": "[encoded data removed]"
          },
          "metadata": {
            "needs_background": "light"
          }
        },
        {
          "output_type": "display_data",
          "data": {
            "text/plain": [
              "<Figure size 432x288 with 1 Axes>"
            ],
            "image/png": "[encoded data removed]"
          },
          "metadata": {
            "needs_background": "light"
          }
        }
      ]
    },
    {
      "cell_type": "code",
      "source": [
        "scaled_data = whiten(data)\n",
        "\n",
        "print(np.mean(scaled_data,axis=0))\n",
        "\n",
        "print(np.std(scaled_data,axis=0))"
      ],
      "metadata": {
        "colab": {
          "base_uri": "https://localhost:8080/"
        },
        "id": "352F_V7yPHgx",
        "outputId": "35530f93-4242-41f3-cadc-d36a663ccd08"
      },
      "execution_count": 16,
      "outputs": [
        {
          "output_type": "stream",
          "name": "stdout",
          "text": [
            "[2.30059766 0.19325204 1.832819  ]\n",
            "[1. 1. 1.]\n"
          ]
        }
      ]
    },
    {
      "cell_type": "code",
      "source": [
        "quickplot = 'yes'\n",
        "if quickplot == 'yes':\n",
        "## Quick plots of data\n",
        "  for i in np.arange(0,np.shape(scaled_data)[1]):\n",
        "    plt.plot(scaled_data[:,i],label=included_cols[i]);\n",
        "\n",
        "plt.legend()"
      ],
      "metadata": {
        "colab": {
          "base_uri": "https://localhost:8080/",
          "height": 283
        },
        "id": "8WCe-d3AP4L4",
        "outputId": "f1af80b5-c2ff-465f-ad57-a7b432919a02"
      },
      "execution_count": 17,
      "outputs": [
        {
          "output_type": "execute_result",
          "data": {
            "text/plain": [
              "<matplotlib.legend.Legend at 0x7f4a739f64d0>"
            ]
          },
          "metadata": {},
          "execution_count": 17
        },
        {
          "output_type": "display_data",
          "data": {
            "text/plain": [
              "<Figure size 432x288 with 1 Axes>"
            ],
            "image/png": "[encoded data removed]"
          },
          "metadata": {
            "needs_background": "light"
          }
        }
      ]
    },
    {
      "cell_type": "code",
      "source": [
        "## select the number of clusters\n",
        "NO_CLUSTERS = 4 # use 4 clusters to see if there is a winter, fall, spring, and summer in Denver, CO.\n",
        "## do the clustering, return centroids\n",
        "centroids, _ = kmeans(scaled_data,NO_CLUSTERS,iter=20)"
      ],
      "metadata": {
        "id": "yfUZIe2vQL7R"
      },
      "execution_count": 18,
      "outputs": []
    },
    {
      "cell_type": "code",
      "source": [
        "## find an index (idx) - label for each value in the dataset\n",
        "idx, _ = vq(scaled_data,centroids) # vq returns cluster idx for each observation\n",
        "## add 1 so that idx is also 1-based like df['season']\n",
        "idx=idx+1\n",
        "print('Here is the cluster idx for each day of the year:')\n",
        "print(idx.shape) # prints K-mean's season label for each day"
      ],
      "metadata": {
        "colab": {
          "base_uri": "https://localhost:8080/"
        },
        "id": "9IQdMfSZ7ppN",
        "outputId": "2356c338-31d1-43bb-878e-60ba52ffd7dd"
      },
      "execution_count": 19,
      "outputs": [
        {
          "output_type": "stream",
          "name": "stdout",
          "text": [
            "Here is the cluster idx for each day of the year:\n",
            "(1771,)\n"
          ]
        }
      ]
    },
    {
      "cell_type": "markdown",
      "source": [
        "###**Step 4: Present results visually using 2-3 graphs**"
      ],
      "metadata": {
        "id": "nun4KPZcdtOF"
      }
    },
    {
      "cell_type": "code",
      "source": [
        "### quick plot to show index results\n",
        "### plot each year\n",
        "plt.plot(idx[0:365],'.',label='2016');\n",
        "plt.plot(idx[365:365*2]+0.1,'.',label='2017');\n",
        "plt.plot(idx[365*2:365*3]+0.2,'.',label='2018');\n",
        "plt.plot(idx[365*3:365*4]+0.3,'.',label='2019');\n",
        "plt.plot(idx[365*4:365*5]+0.4,'.',label='2020');\n",
        "#plt.legend(loc='best');\n",
        "plt.legend(bbox_to_anchor=(1, 0.75), loc='upper left', ncol=1);\n",
        "plt.yticks(np.arange(1,NO_CLUSTERS+1),labels=['cluster1','cluster2','cluster3','cluster4']);\n",
        "plt.xlabel('Day of the year')\n",
        "plt.title('Seasonal cycle of cluster assignment by Year');"
      ],
      "metadata": {
        "colab": {
          "base_uri": "https://localhost:8080/",
          "height": 295
        },
        "id": "SWpmH7wBQn_J",
        "outputId": "807dbb66-ea8b-4ab9-eb2d-d5cf730f857c"
      },
      "execution_count": 20,
      "outputs": [
        {
          "output_type": "display_data",
          "data": {
            "text/plain": [
              "<Figure size 432x288 with 1 Axes>"
            ],
            "image/png": "[encoded data removed]"
          },
          "metadata": {
            "needs_background": "light"
          }
        }
      ]
    },
    {
      "cell_type": "code",
      "source": [
        "## Create a few xy scatter plots, where points are colored by \"season\"\n",
        "### Pick two variables that are part of included_cols\n",
        "\n",
        "##### PLOT #1\n",
        "### select two variables and put them in vars2plot - # format (x, y)\n",
        "vars2plot = ['Min Temp','Daily Mean AQI']\n",
        "data2plot = [data[:,included_cols.index(var)] for var in vars2plot]\n",
        "## find the integer index of the variable to plot\n",
        "varidx2plot=np.zeros(2,dtype=\"int\")\n",
        "for i in np.arange(0,2):\n",
        "  varidx2plot[i]=included_cols.index(vars2plot[i])\n",
        "### Next plot variables as the original values with colors to identify associated cluster\n",
        "# (red=1, blue=2, grey=3, orange=4)\n",
        "cols = ['','red','blue','grey','orange']\n",
        "plt.figure(figsize=(8,5))\n",
        "plt.title('K-means classification with ' + str(NO_CLUSTERS) + ' Clusters',fontsize=22)\n",
        "for (ind,val) in enumerate(np.transpose(data2plot)):\n",
        "  plt.plot(val[0],val[1],\".\", color=cols[idx[ind]], markersize=10, markerfacecolor = 'none')\n",
        "plt.xticks(fontsize=18)\n",
        "plt.yticks(fontsize=18)\n",
        "plt.xlabel(vars2plot[0],fontsize=18);\n",
        "plt.ylabel(vars2plot[1],fontsize=18);\n",
        "plt.show()\n",
        "\n",
        "##### PLOT #2\n",
        "### select two variables and put them in vars2plot - # format (x, y)\n",
        "vars2plot = ['Min Temp','Total Precip (in.)']\n",
        "data2plot = [data[:,included_cols.index(var)] for var in vars2plot]\n",
        "## find the integer index of the variable to plot\n",
        "varidx2plot=np.zeros(2,dtype=\"int\")\n",
        "for i in np.arange(0,2):\n",
        "  varidx2plot[i]=included_cols.index(vars2plot[i])\n",
        "### Next plot variables as the original values with colors to identify the associated cluster\n",
        "cols = ['','red','blue','grey','orange']\n",
        "plt.figure(figsize=(8,5))\n",
        "plt.title('K-means classification with ' + str(NO_CLUSTERS) + ' Clusters',fontsize=22)\n",
        "for (ind,val) in enumerate(np.transpose(data2plot)):\n",
        "  plt.plot(val[0],val[1],\".\", color=cols[idx[ind]], markersize=10, markerfacecolor = 'none')\n",
        "plt.xticks(fontsize=18)\n",
        "plt.yticks(fontsize=18)\n",
        "plt.xlabel(vars2plot[0],fontsize=18);\n",
        "plt.ylabel(vars2plot[1],fontsize=18);\n",
        "plt.show()\n",
        "\n",
        "##### PLOT #3\n",
        "### select two variables and put them in vars2plot - # format (x, y)\n",
        "vars2plot = ['Daily Mean AQI','Total Precip (in.)']\n",
        "data2plot = [data[:,included_cols.index(var)] for var in vars2plot]\n",
        "## find the integer index of the variable to plot\n",
        "varidx2plot=np.zeros(2,dtype=\"int\")\n",
        "for i in np.arange(0,2):\n",
        "  varidx2plot[i]=included_cols.index(vars2plot[i])\n",
        "### Next plot variables as the original values with colors to identify the associated cluster\n",
        "cols = ['','red','blue','grey','orange']\n",
        "plt.figure(figsize=(8,5))\n",
        "plt.title('K-means classification with ' + str(NO_CLUSTERS) + ' Clusters',fontsize=22)\n",
        "for (ind,val) in enumerate(np.transpose(data2plot)):\n",
        "  plt.plot(val[0],val[1],\".\", color=cols[idx[ind]], markersize=10, markerfacecolor = 'none')\n",
        "plt.xticks(fontsize=18)\n",
        "plt.yticks(fontsize=18)\n",
        "plt.xlabel(vars2plot[0],fontsize=18);\n",
        "plt.ylabel(vars2plot[1],fontsize=18);\n",
        "plt.show()"
      ],
      "metadata": {
        "colab": {
          "base_uri": "https://localhost:8080/",
          "height": 1000
        },
        "id": "RNOZeVYb867_",
        "outputId": "6d9be078-f107-401d-e5d6-8aaf8f4ac732"
      },
      "execution_count": 21,
      "outputs": [
        {
          "output_type": "display_data",
          "data": {
            "text/plain": [
              "<Figure size 576x360 with 1 Axes>"
            ],
            "image/png": "[encoded data removed]"
          },
          "metadata": {
            "needs_background": "light"
          }
        },
        {
          "output_type": "display_data",
          "data": {
            "text/plain": [
              "<Figure size 576x360 with 1 Axes>"
            ],
            "image/png": "[encoded data removed]"
          },
          "metadata": {
            "needs_background": "light"
          }
        },
        {
          "output_type": "display_data",
          "data": {
            "text/plain": [
              "<Figure size 576x360 with 1 Axes>"
            ],
            "image/png": "[encoded data removed]"
          },
          "metadata": {
            "needs_background": "light"
          }
        }
      ]
    },
    {
      "cell_type": "code",
      "source": [
        "#### prepare data to plot in the histograms\n",
        "## this is the actual season from the definition in the season dictionary above\n",
        "season_idx=df['season'].to_numpy()\n",
        "print(season_idx.shape)\n",
        "## this is the season from the k-means clustering algorithm\n",
        "print(idx.shape)\n",
        "### find what the k-means clustering assigned in each season\n",
        "## find all of the days in winter, i.e., where season_idx=1\n",
        "winteridx=np.nonzero(np.where(season_idx==1,1,0))\n",
        "#print(winteridx) ### uncomment me to check the code\n",
        "## find what values the k-means classified for this season\n",
        "winter=idx[winteridx]\n",
        "#print(winter) ### uncomment me to check the code\n",
        "## find all of the days in spring, i.e., where season_idx=2\n",
        "springidx=np.nonzero(np.where(season_idx==2,1,0))\n",
        "## find what values the k-means classified for this season\n",
        "spring=idx[springidx]\n",
        "## find all of the days in summer, i.e., where season_idx=3\n",
        "summeridx=np.nonzero(np.where(season_idx==3,1,0))\n",
        "## find what values the k-means classified for this season\n",
        "summer=idx[summeridx]\n",
        "## find all of the days in fall, i.e., where season_idx=4\n",
        "fallidx=np.nonzero(np.where(season_idx==4,1,0))\n",
        "## find what values the k-means classified for this season\n",
        "fall=idx[fallidx]"
      ],
      "metadata": {
        "colab": {
          "base_uri": "https://localhost:8080/"
        },
        "id": "FiabEjsSMWT7",
        "outputId": "b01620a7-8728-4c3a-9379-a6e8cf574c10"
      },
      "execution_count": 22,
      "outputs": [
        {
          "output_type": "stream",
          "name": "stdout",
          "text": [
            "(1771,)\n",
            "(1771,)\n"
          ]
        }
      ]
    },
    {
      "cell_type": "code",
      "source": [
        "### Histogram Type #1 - Compare seasons based on month and k-means clustering over entire year\n",
        "## define bins for the histogram\n",
        "delta= 1 ## bin size\n",
        "minbin= 0.5 ## minimum bin value\n",
        "maxbin= 5.5 ## maximum bin value\n",
        "hist_bins = np.arange(minbin,maxbin,delta) ## bins\n",
        "print(hist_bins) ## print histograms to check\n",
        "#### all data - plot histogram\n",
        "h, mids = np.histogram(idx,bins=hist_bins);\n",
        "plt.hist(idx,bins=mids,facecolor='white',edgecolor=\"grey\",label='k-means',lw=2);\n",
        "plt.hist(season_idx,bins=mids,facecolor='r',edgecolor=\"r\",label='actual seasons',alpha=0.5,lw=2);\n",
        "plt.ylabel('count')\n",
        "#plt.ylim(0,1000)\n",
        "plt.xticks(np.arange(1,4+1),labels=['cluster1','cluster2','cluster3','cluster4']);\n",
        "plt.legend();\n",
        "plt.title('Month-based seasons (red) vs. Clustering seasons (black)');"
      ],
      "metadata": {
        "colab": {
          "base_uri": "https://localhost:8080/",
          "height": 299
        },
        "id": "RDxNmaJwNc2u",
        "outputId": "b81084c5-c61a-4703-ca73-8aa57229fcbd"
      },
      "execution_count": 23,
      "outputs": [
        {
          "output_type": "stream",
          "name": "stdout",
          "text": [
            "[0.5 1.5 2.5 3.5 4.5]\n"
          ]
        },
        {
          "output_type": "display_data",
          "data": {
            "text/plain": [
              "<Figure size 432x288 with 1 Axes>"
            ],
            "image/png": "[encoded data removed]"
          },
          "metadata": {
            "needs_background": "light"
          }
        }
      ]
    },
    {
      "cell_type": "code",
      "source": [
        "### Histogram Type #2 - Histograms of seasons based on k-means clustering for each season\n",
        "\n",
        "## define bins for the histogram\n",
        "delta= 1 ## bin size\n",
        "minbin= 0.5 ## minimum bin value\n",
        "maxbin= 5.5 ## maximum bin value\n",
        "hist_bins = np.arange(minbin,maxbin,delta) ## bins\n",
        "#print(hist_bins) ## print your histograms to check them\n",
        "## sanity check = plot the histogram of assigned clusters for winter\n",
        "#h, mids = np.histogram(winter,bins=hist_bins);\n",
        "#labels4xaxis=['cluster1','cluster2','cluster3','cluster4']\n",
        "#plt.figure(figsize=(4,4))\n",
        "#plt.hist(winter,bins=mids,facecolor='w',edgecolor=\"k\");\n",
        "#plt.xticks(np.arange(1,4+1),labels=labels4xaxis);\n",
        "#plt.title('Winter');\n",
        "#plt.show();\n",
        "### Show all seasons using subplots\n",
        "labels4xaxis=['','cluster1','cluster2','cluster3','cluster4']\n",
        "fig, ((ax1, ax2), (ax3, ax4)) = plt.subplots(2, 2)\n",
        "fig.suptitle('k-means clustering results - all seasons',fontsize=20)\n",
        "fig.set_figheight(6)\n",
        "fig.set_figwidth(8)\n",
        "ymax=500\n",
        "h, mids = np.histogram(winter,bins=hist_bins);\n",
        "ax1.hist(winter,bins=mids,facecolor='w',edgecolor=\"k\");\n",
        "ax1.set_title(\"winter\");\n",
        "ax1.set_ylabel(\"count\");\n",
        "ax1.set_ylim(0,ymax)\n",
        "h, mids = np.histogram(spring,bins=hist_bins);\n",
        "ax2.hist(spring,bins=mids,facecolor='w',edgecolor=\"k\");\n",
        "ax2.set_title(\"spring\");\n",
        "ax2.set_ylim(0,ymax)\n",
        "h, mids = np.histogram(summer,bins=hist_bins);\n",
        "ax3.hist(summer,bins=mids,facecolor='w',edgecolor=\"k\");\n",
        "ax3.set_title(\"summer\");\n",
        "ax3.set_xticklabels(labels4xaxis);\n",
        "ax3.set_ylabel(\"count\");\n",
        "ax3.set_ylim(0,ymax)\n",
        "h, mids = np.histogram(fall,bins=hist_bins);\n",
        "ax4.hist(fall,bins=mids,facecolor='w',edgecolor=\"k\");\n",
        "ax4.set_title(\"fall\");\n",
        "ax4.set_xticklabels(labels4xaxis);\n",
        "ax4.set_ylim(0,ymax)\n",
        "for ax in fig.get_axes():\n",
        "  ax.label_outer()"
      ],
      "metadata": {
        "colab": {
          "base_uri": "https://localhost:8080/",
          "height": 417
        },
        "id": "EuYJhJH2kAFK",
        "outputId": "813e7d55-0420-455a-906f-3cf59216dff3"
      },
      "execution_count": 24,
      "outputs": [
        {
          "output_type": "display_data",
          "data": {
            "text/plain": [
              "<Figure size 576x432 with 4 Axes>"
            ],
            "image/png": "[encoded data removed]"
          },
          "metadata": {
            "needs_background": "light"
          }
        }
      ]
    },
    {
      "cell_type": "markdown",
      "source": [
        "###**Summary**: Write your text here. Discuss what you found including how it relates to your hypothesis and underlying motivation.\n",
        "\n",
        "This project's aim was to determine if daily mean AQI measurements can be factored into a cluster analysis for seasons in Denver, CO. According to my complete cluster analysis using the variables 'total precip. (in)', 'min temp (F)' and 'daily mean AQI' for the Denver Int'l Airport area between 2016 and 2020, daily mean AQI does not seem to be a seasonally-variable enough factor to use in order to cluster seasons. I would've liked to use the 'max temp (F)' variable as well, but I was unable to determine why that particular column of data broke the code any time I tried to perform any data analysis on it; I believe, however, that it may have been able to help offer a better picture of how seasons vary in Denver, CO. Overall, it appears that an analysis utilizing daily mean AQI shows that Denver, CO only strongly exhibits one season (summer, cluster 1), a strange, partial winter/fall/spring season (cluster 3), and a small and sporadic transtionary season, given by cluster 4. Cluster 2 does not appear to fit well into any season, making it primarily negligible. In summary, in accordance with this project's results, daily mean AQI does not have a strong or consistent enough variability pattern across seasons in order to factor it into a cluster analysis. I believe, however, that if I were to factor in snowfall and precip. separately as well as max temp, this cluster analysis could improve in accuracy, regardless of using daily mean AQI as a variable. "
      ],
      "metadata": {
        "id": "F2KAwWkId3JE"
      }
    }
  ]
}